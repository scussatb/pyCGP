{
 "cells": [
  {
   "cell_type": "code",
   "execution_count": 1,
   "id": "0f083315",
   "metadata": {},
   "outputs": [],
   "source": [
    "from pycgp import CGP, CGPES, Evaluator, MaskEvaluator\n",
    "from pycgp.ipfunctions import *\n",
    "import pandas as pd\n",
    "import sys\n",
    "import time"
   ]
  },
  {
   "cell_type": "markdown",
   "id": "d3e582b3",
   "metadata": {},
   "source": [
    "# Dataset infos"
   ]
  },
  {
   "cell_type": "code",
   "execution_count": 4,
   "id": "ebb1f88e",
   "metadata": {},
   "outputs": [],
   "source": [
    "dirname = 'datasets/coins/'\n",
    "dataset_name = 'dataset.csv'"
   ]
  },
  {
   "cell_type": "markdown",
   "id": "1e617583",
   "metadata": {},
   "source": [
    "# CGP genome to evaluate"
   ]
  },
  {
   "cell_type": "code",
   "execution_count": 2,
   "id": "d12d4bab",
   "metadata": {},
   "outputs": [],
   "source": [
    "cgp_filename = 'datasets/coins/evos/run_1748341977877727/cgp_genome_9_0.35885661396250645.txt'"
   ]
  },
  {
   "cell_type": "markdown",
   "id": "06962167",
   "metadata": {},
   "source": [
    "# Evaluation of the genome"
   ]
  },
  {
   "cell_type": "code",
   "execution_count": 3,
   "id": "72ab60b8",
   "metadata": {},
   "outputs": [
    {
     "ename": "NameError",
     "evalue": "name 'dirname' is not defined",
     "output_type": "error",
     "traceback": [
      "\u001b[0;31m---------------------------------------------------------------------------\u001b[0m",
      "\u001b[0;31mNameError\u001b[0m                                 Traceback (most recent call last)",
      "Cell \u001b[0;32mIn[3], line 1\u001b[0m\n\u001b[0;32m----> 1\u001b[0m e \u001b[38;5;241m=\u001b[39m MaskEvaluator(dirname \u001b[38;5;241m=\u001b[39m \u001b[43mdirname\u001b[49m,\n\u001b[1;32m      2\u001b[0m                   dataset_name \u001b[38;5;241m=\u001b[39m dataset_name,\n\u001b[1;32m      3\u001b[0m                   display_dataset\u001b[38;5;241m=\u001b[39m\u001b[38;5;28;01mFalse\u001b[39;00m,\n\u001b[1;32m      4\u001b[0m                   resize \u001b[38;5;241m=\u001b[39m \u001b[38;5;241m0.25\u001b[39m,\n\u001b[1;32m      5\u001b[0m                   include_hsv \u001b[38;5;241m=\u001b[39m \u001b[38;5;28;01mTrue\u001b[39;00m,\n\u001b[1;32m      6\u001b[0m                   include_hed \u001b[38;5;241m=\u001b[39m \u001b[38;5;28;01mFalse\u001b[39;00m,\n\u001b[1;32m      7\u001b[0m                   number_of_evaluated_images\u001b[38;5;241m=\u001b[39m\u001b[38;5;241m-\u001b[39m\u001b[38;5;241m1\u001b[39m)\n",
      "\u001b[0;31mNameError\u001b[0m: name 'dirname' is not defined"
     ]
    }
   ],
   "source": [
    "e = MaskEvaluator(dirname = dirname,\n",
    "                  dataset_name = dataset_name,\n",
    "                  display_dataset=False,\n",
    "                  resize = 0.25,\n",
    "                  include_hsv = True,\n",
    "                  include_hed = False,\n",
    "                  number_of_evaluated_images=-1)"
   ]
  },
  {
   "cell_type": "code",
   "execution_count": 29,
   "id": "583c3355",
   "metadata": {},
   "outputs": [
    {
     "name": "stdout",
     "output_type": "stream",
     "text": [
      "mask_0 = f_pyr(f_robert_cross(f_close(ch_2, 94, 20), 22), 249);\n",
      "0.5965909090909091\n",
      "0.5096463022508039\n",
      "0.5285118219749653\n",
      "0.38028169014084506\n",
      "0.4409340659340659\n",
      "final fitness: 0.4338080404675306\n"
     ]
    },
    {
     "data": {
      "text/plain": [
       "0.4338080404675306"
      ]
     },
     "execution_count": 29,
     "metadata": {},
     "output_type": "execute_result"
    }
   ],
   "source": [
    "cgp = CGP.load_from_file(cgp_filename, library, input_shape=e.input_channels[0][0].shape, dtype='uint8')\n",
    "e.evaluate(cgp, 0, displayTrace=True)\n"
   ]
  },
  {
   "cell_type": "code",
   "execution_count": 30,
   "id": "a7e224f5",
   "metadata": {},
   "outputs": [
    {
     "data": {
      "text/plain": [
       "'mask_0 = f_pyr(f_robert_cross(f_close(ch_2, 94, 20), 22), 249);'"
      ]
     },
     "execution_count": 30,
     "metadata": {},
     "output_type": "execute_result"
    }
   ],
   "source": [
    "cgp.to_function_string(['ch_'+str(i) for i in range(e.n_inputs)], ['mask_'+str(i) for i in range(e.n_outputs)])\n"
   ]
  }
 ],
 "metadata": {
  "kernelspec": {
   "display_name": "Python 3 (ipykernel)",
   "language": "python",
   "name": "python3"
  },
  "language_info": {
   "codemirror_mode": {
    "name": "ipython",
    "version": 3
   },
   "file_extension": ".py",
   "mimetype": "text/x-python",
   "name": "python",
   "nbconvert_exporter": "python",
   "pygments_lexer": "ipython3",
   "version": "3.10.12"
  }
 },
 "nbformat": 4,
 "nbformat_minor": 5
}
